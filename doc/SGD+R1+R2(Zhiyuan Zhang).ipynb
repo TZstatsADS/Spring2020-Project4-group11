{
 "cells": [
  {
   "cell_type": "code",
   "execution_count": 1,
   "metadata": {},
   "outputs": [],
   "source": [
    "import pandas as pd\n",
    "import numpy as np\n",
    "import time \n",
    "import matplotlib.pyplot as plt\n",
    "from sklearn.model_selection import train_test_split\n",
    "import random\n",
    "import timeit"
   ]
  },
  {
   "cell_type": "code",
   "execution_count": 2,
   "metadata": {},
   "outputs": [],
   "source": [
    "data = pd.read_csv('../data/ml-latest-small/ratings.csv')"
   ]
  },
  {
   "cell_type": "code",
   "execution_count": 3,
   "metadata": {},
   "outputs": [],
   "source": [
    "train, test = train_test_split(data, test_size = 0.2)\n",
    "\n",
    "#train_user = list(train[\"userId\"])\n",
    "#train_movie = list(train[\"movieId\"])\n",
    "#train_rate = list(train[\"rating\"])\n",
    "\n",
    "#test_user = list(test[\"userId\"])\n",
    "#test_movie = list(test[\"movieId\"])\n",
    "#test_rate = list(test[\"rating\"])"
   ]
  },
  {
   "cell_type": "code",
   "execution_count": 4,
   "metadata": {},
   "outputs": [],
   "source": [
    "def sgd_bias(data, train, test, f = 10, lam = 0.3, lrate = 0.01, epoch = 10, stopping_deriv = 0.01):\n",
    "\n",
    "    #define the length of unique userid and movieid \n",
    "    U = len(data['userId'].unique())\n",
    "    I = len(data['movieId'].unique())\n",
    "    \n",
    "    p = np.random.randn(f, U)\n",
    "    q = np.random.randn(f, I)\n",
    "    \n",
    "    tmp1 = [i for i in range(I)]\n",
    "    tmp2 = data['movieId'].unique()\n",
    "    movie_dic = dict(zip(tmp2,tmp1))\n",
    "    \n",
    "    \n",
    "    train_data = np.array(train)\n",
    "    \n",
    "    user_mean = data.groupby('userId').mean()['rating']\n",
    "    user_mean = np.array(user_mean)\n",
    "    \n",
    "    item_mean = data.groupby('movieId').mean()['rating']\n",
    "    tmp_item_index = item_mean.index.tolist()\n",
    "    tmp_movie_dic = dict(zip(tmp_item_index, [i for i in range(I)]))\n",
    "    item_mean = np.array(item_mean)\n",
    "    \n",
    "    \n",
    "    \n",
    "    total_mean = np.mean(data['rating'])\n",
    "    user_bias = user_mean - total_mean\n",
    "    item_bias = item_mean - total_mean\n",
    "    \n",
    "    sample_index = [index for index in range(train_data.shape[0])]\n",
    "    \n",
    "    \n",
    "    \n",
    "    \n",
    "    for e in range(epoch):\n",
    "        random.shuffle(sample_index)\n",
    "        for index in sample_index:\n",
    "            u = int(train_data[index,0])\n",
    "            i = int(train_data[index,1])\n",
    "            r_ui = train_data[index,2]\n",
    "            bias_u = user_bias[u-1]\n",
    "            bias_i = item_bias[tmp_movie_dic[i]]\n",
    "            e_ui = r_ui - total_mean - bias_u - bias_i - np.dot(q[:,movie_dic[i]].T, p[:,u-1])\n",
    "            \n",
    "            grad_user = e_ui * p[:,u-1] - lam * q[:, movie_dic[i]]\n",
    "            if(all(np.abs(grad)) > stopping_deriv for grad in grad_user):\n",
    "                q[:,movie_dic[i]] = q[:,movie_dic[i]] + lrate * grad_user\n",
    "                \n",
    "            grad_item = e_ui * q[:,movie_dic[i]] - lam* p[:,u-1]\n",
    "            if(all(np.abs(grad)) > stopping_deriv for grad in grad_item):\n",
    "                p[:,u-1] = p[:,u-1] + lrate * grad_item\n",
    "                \n",
    "            grad_user_bias = e_ui - lam * bias_u\n",
    "            if (np.abs(grad_user_bias) > stopping_deriv):\n",
    "                user_bias[u-1] = bias_u + lrate * grad_user_bias\n",
    "            \n",
    "            grad_item_bias = e_ui - lam * bias_i\n",
    "            if (np.abs(grad_item_bias) > stopping_deriv):\n",
    "                item_bias[tmp_movie_dic[i]] = bias_i + lrate * grad_item_bias \n",
    "        \n",
    "        \n",
    "        \n",
    "    r_ij = total_mean + user_bias + np.dot(q.T,p)\n",
    "    r_ij = (r_ij.T + item_bias).T\n",
    "    return p,q, r_ij"
   ]
  },
  {
   "cell_type": "code",
   "execution_count": 5,
   "metadata": {},
   "outputs": [
    {
     "name": "stdout",
     "output_type": "stream",
     "text": [
      "Running Time for SGD+R1+R2:  17.993965900000003 s\n"
     ]
    }
   ],
   "source": [
    "start1 = timeit.default_timer()\n",
    "p,q,r_ij = sgd_bias(data, train, test)\n",
    "stop1 = timeit.default_timer()\n",
    "            \n",
    "print('Running Time for SGD+R1+R2: ', stop1 - start1, 's')"
   ]
  },
  {
   "cell_type": "code",
   "execution_count": 6,
   "metadata": {},
   "outputs": [],
   "source": [
    "def RMSE(rating, est_rating):\n",
    "    sqr_error = []\n",
    "    for r in range(rating.shape[0]):\n",
    "        u = int(rating[r,0])\n",
    "        i = int(rating[r,1])\n",
    "        r_ui = rating[r,2]\n",
    "        est_r_ui = est_rating[i, u]\n",
    "        sqr_error.append((r_ui - est_r_ui) ** 2)\n",
    "    return np.sqrt(np.mean(sqr_error))      "
   ]
  },
  {
   "cell_type": "code",
   "execution_count": 7,
   "metadata": {},
   "outputs": [],
   "source": [
    "est_rating = r_ij\n",
    "est_rating = pd.DataFrame(est_rating)"
   ]
  }
 ],
 "metadata": {
  "kernelspec": {
   "display_name": "Python 3",
   "language": "python",
   "name": "python3"
  },
  "language_info": {
   "codemirror_mode": {
    "name": "ipython",
    "version": 3
   },
   "file_extension": ".py",
   "mimetype": "text/x-python",
   "name": "python",
   "nbconvert_exporter": "python",
   "pygments_lexer": "ipython3",
   "version": "3.7.4"
  }
 },
 "nbformat": 4,
 "nbformat_minor": 4
}
