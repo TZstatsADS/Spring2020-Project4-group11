{
 "cells": [
  {
   "cell_type": "code",
   "execution_count": null,
   "metadata": {},
   "outputs": [],
   "source": [
    "q_transpose = q.T\n",
    "q_transpose_normalized = q_transpose / np.linalg.norm(q_transpose, axis = 1, keepdims = True)\n",
    "#transpose and normalize q matrix\n",
    "q_transpose_normalized.reset_index(inplace = True)\n",
    "#preparing for later-on dataset merge\n",
    "q_transpose_normalized.rename(columns = {\"index\": \"movieId\"}, inplace = True)\n",
    "#rename from \"index\" to \"movieId\""
   ]
  },
  {
   "cell_type": "code",
   "execution_count": null,
   "metadata": {},
   "outputs": [],
   "source": [
    "rating['movieId'] = rating['movieId'].astype(int)\n",
    "#change movieId into integer"
   ]
  },
  {
   "cell_type": "code",
   "execution_count": null,
   "metadata": {},
   "outputs": [],
   "source": [
    "q_transpose_normalized['movieId'] = q_transpose_normalized['movieId'].astype(int)\n",
    "#change movieId into integer"
   ]
  },
  {
   "cell_type": "code",
   "execution_count": null,
   "metadata": {},
   "outputs": [],
   "source": [
    "rating_merge = pd.merge(rating, q_transpose_normalized, on = 'movieId', how = 'left')\n",
    "#merge 'rating' and 'q_transpose_normalized' datasets\n",
    "dict_of_users = {k: v for k, v in rating_merge.groupby('userId')}\n",
    "#separating all users into 610 cat\n",
    "dict_of_users.get(1)[[1, 2, 3, 4, 5, 6, 7, 8, 9, 10]]\n",
    "#checking if user_1 is in the dictionary"
   ]
  },
  {
   "cell_type": "code",
   "execution_count": null,
   "metadata": {},
   "outputs": [],
   "source": [
    "## Train kernel ridge ##\n",
    "train, test = train_test_split(rating_merge, test_size = 0.2)\n",
    "#spliting dataset 20% test 80% train\n",
    "dict_of_users_train = {k: v for k, v in train.groupby('userId')}\n",
    "#separating all users into 610 cat\n",
    "dict_of_users_test = {k: v for k, v in test.groupby('userId')}\n",
    "#separating all users into 610 cat\n",
    "\n",
    "dict_of_users_train.get(1)[[1, 2, 3, 4, 5, 6, 7, 8, 9, 10]]\n",
    "#checking if user_1 is in the train dictionary\n",
    "dict_of_users_test.get(1)[[1, 2, 3, 4, 5, 6, 7, 8, 9, 10]]\n",
    "#checking if user_1 is in the train dictionary"
   ]
  },
  {
   "cell_type": "code",
   "execution_count": null,
   "metadata": {},
   "outputs": [],
   "source": [
    "def RMSE(n_users, method):\n",
    "  vecList = list()\n",
    "  for i in range(1, n_users + 1):\n",
    "    X = dict_of_users.get(i)[[1, 2, 3, 4, 5, 6, 7, 8, 9, 10]]\n",
    "    y = dict_of_users.get(i)[['rating']]\n",
    "    pred = KernelRidge(kernel = method).fit(X, y).predict(X)\n",
    "    sq_diff = np.square(np.array(pred) - np.array(y))\n",
    "    mean_sq_diff = sq_diff.mean()\n",
    "    root_mean_sq_diff = np.sqrt(mean_sq_diff)\n",
    "    vecList.append(root_mean_sq_diff)\n",
    "  return vecList\n",
    "#for iteration return RMSE\n",
    "\n",
    "def List_Sum_Function(list, length): \n",
    "   if (length == 0): \n",
    "     return 0\n",
    "   else: \n",
    "     return list[length - 1] + List_Sum_Function(list, length - 1)\n",
    "#define function of sum of list values"
   ]
  },
  {
   "cell_type": "code",
   "execution_count": null,
   "metadata": {},
   "outputs": [],
   "source": [
    "## Train kernel ridge ##\n",
    "train, test = train_test_split(rating_merge, test_size = 0.2)\n",
    "#spliting dataset 20% test 80% train\n",
    "dict_of_users_train = {k: v for k, v in train.groupby('userId')}\n",
    "#separating all users into 610 cat\n",
    "dict_of_users_test = {k: v for k, v in test.groupby('userId')}\n",
    "#separating all users into 610 cat\n",
    "\n",
    "dict_of_users_train.get(1)[[1, 2, 3, 4, 5, 6, 7, 8, 9, 10]]\n",
    "#checking if user_1 is in the train dictionary\n",
    "dict_of_users_test.get(1)[[1, 2, 3, 4, 5, 6, 7, 8, 9, 10]]\n",
    "#checking if user_1 is in the train dictionary"
   ]
  },
  {
   "cell_type": "code",
   "execution_count": null,
   "metadata": {},
   "outputs": [],
   "source": [
    "def RMSE_train(n_users, kernel, alpha, gamma, degree):\n",
    "  vector_train = list()\n",
    "  for m in range(1, n_users + 1):\n",
    "    X_train = dict_of_users_train.get(m)[[1, 2, 3, 4, 5, 6, 7, 8, 9, 10]]\n",
    "    y_train = dict_of_users_train.get(m)[['rating']]\n",
    "    pred = KernelRidge(alpha = alpha, gamma = gamma, degree = degree, kernel = kernel).fit(X_train, y_train).predict(X_train)\n",
    "    sq_diff = np.square(np.array(pred) - np.array(y_train))\n",
    "    mean_sq_diff = sq_diff.mean()\n",
    "    root_mean_sq_diff = np.sqrt(mean_sq_diff)\n",
    "    vector_train.append(root_mean_sq_diff)\n",
    "  return vector_train\n",
    "#define RMSE train function\n",
    "\n",
    "def RMSE_test(n_users, kernel, alpha, gamma, degree):\n",
    "  vector_test = list()\n",
    "  for m in range(1, n_users + 1):\n",
    "    X_train = dict_of_users_train.get(m)[[1, 2, 3, 4, 5, 6, 7, 8, 9, 10]]\n",
    "    y_train = dict_of_users_train.get(m)[['rating']]\n",
    "    X_test = dict_of_users.get(m)[[1, 2, 3, 4, 5, 6, 7, 8, 9, 10]]\n",
    "    y_test = dict_of_users.get(m)[['rating']]\n",
    "    pred = KernelRidge(alpha = alpha, gamma = gamma, degree = degree, kernel = kernel).fit(X_train, y_train).predict(X_test)\n",
    "    sq_diff = np.square(np.array(pred) - np.array(y_test))\n",
    "    mean_sq_diff = sq_diff.mean()\n",
    "    root_mean_sq_diff = np.sqrt(mean_sq_diff)\n",
    "    vector_test.append(root_mean_sq_diff)\n",
    "  return vector_test\n",
    "#define RMSE test function"
   ]
  },
  {
   "cell_type": "code",
   "execution_count": null,
   "metadata": {},
   "outputs": [],
   "source": [
    "def train_model(datasets, n_users, kernel, alpha, gamma, degree):\n",
    "  vecList_train = list()\n",
    "  for i in range(1, n_users + 1):\n",
    "    X = datasets.get(i)[[1, 2, 3, 4, 5, 6, 7, 8, 9, 10]]\n",
    "    y = datasets.get(i)[['rating']]\n",
    "    X_overall = q_transpose_normalized[[1, 2, 3, 4, 5, 6, 7, 8, 9, 10]]\n",
    "    pred = KernelRidge(alpha = alpha, gamma = gamma, degree = degree, kernel = kernel).fit(X, y).predict(X_overall)\n",
    "    vecList_train.append(pred)\n",
    "  return vecList_train"
   ]
  }
 ],
 "metadata": {
  "kernelspec": {
   "display_name": "Python 3",
   "language": "python",
   "name": "python3"
  },
  "language_info": {
   "codemirror_mode": {
    "name": "ipython",
    "version": 3
   },
   "file_extension": ".py",
   "mimetype": "text/x-python",
   "name": "python",
   "nbconvert_exporter": "python",
   "pygments_lexer": "ipython3",
   "version": "3.7.4"
  }
 },
 "nbformat": 4,
 "nbformat_minor": 2
}
