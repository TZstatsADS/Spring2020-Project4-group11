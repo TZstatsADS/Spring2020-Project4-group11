{
 "cells": [
  {
   "cell_type": "markdown",
   "metadata": {},
   "source": [
    "# Project4 - Group11"
   ]
  },
  {
   "cell_type": "markdown",
   "metadata": {},
   "source": [
    "## Algorithm implementation and evaluation "
   ]
  },
  {
   "cell_type": "markdown",
   "metadata": {},
   "source": [
    "In this project we will measure and compare different methods for factorized rating models in recommender system. We will compare the models in two metrics: running cost (training and inference cost) and recommendation accuracy (i.e., how accurate is our guess of costumers' rating to certain movies)."
   ]
  },
  {
   "cell_type": "markdown",
   "metadata": {},
   "source": [
    "### 1. Load data and data preprocessing "
   ]
  },
  {
   "cell_type": "code",
   "execution_count": 1,
   "metadata": {},
   "outputs": [],
   "source": [
    "import pandas as pd\n",
    "import numpy as np\n",
    "import time \n",
    "import matplotlib.pyplot as plt\n",
    "from sklearn.model_selection import train_test_split\n",
    "import random\n",
    "import timeit\n",
    "from sklearn.metrics.pairwise import pairwise_distances\n",
    "import seaborn as sns\n",
    "import warnings\n",
    "warnings.filterwarnings('ignore')"
   ]
  },
  {
   "cell_type": "code",
   "execution_count": 2,
   "metadata": {},
   "outputs": [],
   "source": [
    "data = pd.read_csv('../data/ml-latest-small/ratings.csv')"
   ]
  },
  {
   "cell_type": "code",
   "execution_count": 3,
   "metadata": {},
   "outputs": [],
   "source": [
    "#training & test split by 0.8 & 0.2 randomly\n",
    "train, test = train_test_split(data, test_size = 0.2)"
   ]
  },
  {
   "cell_type": "markdown",
   "metadata": {},
   "source": [
    "### 2. Algorithm implementation with regularization "
   ]
  },
  {
   "cell_type": "markdown",
   "metadata": {},
   "source": [
    "#### 2.1 Basic model\n",
    "#### A1+R1+R2"
   ]
  },
  {
   "cell_type": "code",
   "execution_count": 4,
   "metadata": {},
   "outputs": [],
   "source": [
    "def sgd_bias(data, train, f = 10, lam = 0.3, lrate = 0.01, epoch = 10, stopping_deriv = 0.01):\n",
    "\n",
    "    #define the length of unique userid and movieid \n",
    "    U = len(data['userId'].unique())\n",
    "    I = len(data['movieId'].unique())\n",
    "    \n",
    "    p = np.random.randn(f, U)\n",
    "    q = np.random.randn(f, I)\n",
    "    \n",
    "    tmp1 = [i for i in range(I)]\n",
    "    tmp2 = data['movieId'].unique()\n",
    "    movie_dic = dict(zip(tmp2,tmp1))\n",
    "    \n",
    "    train_data = np.array(train)\n",
    "    \n",
    "    user_mean = data.groupby('userId').mean()['rating']\n",
    "    user_mean = np.array(user_mean)\n",
    "    \n",
    "    item_mean = data.groupby('movieId').mean()['rating']\n",
    "    tmp_item_index = item_mean.index.tolist()\n",
    "    tmp_movie_dic = dict(zip(tmp_item_index, [i for i in range(I)]))\n",
    "    item_mean = np.array(item_mean)\n",
    "    \n",
    "    total_mean = np.mean(data['rating'])\n",
    "    user_bias = user_mean - total_mean\n",
    "    item_bias = item_mean - total_mean\n",
    "    \n",
    "    sample_index = [index for index in range(train_data.shape[0])]\n",
    "    \n",
    "    #for n epochs\n",
    "    for e in range(epoch):\n",
    "        \n",
    "        #random initialization\n",
    "        random.shuffle(sample_index)\n",
    "        \n",
    "        #training matrix p and q\n",
    "        for index in sample_index:\n",
    "            u = int(train_data[index,0])\n",
    "            i = int(train_data[index,1])\n",
    "            r_ui = train_data[index,2]\n",
    "            bias_u = user_bias[u-1]\n",
    "            bias_i = item_bias[tmp_movie_dic[i]]\n",
    "            e_ui = r_ui - total_mean - bias_u - bias_i - np.dot(q[:,movie_dic[i]].T, p[:,u-1])\n",
    "            \n",
    "            grad_user = e_ui * p[:,u-1] - lam * q[:, movie_dic[i]]\n",
    "            if(all(np.abs(grad)) > stopping_deriv for grad in grad_user):\n",
    "                q[:,movie_dic[i]] = q[:,movie_dic[i]] + lrate * grad_user\n",
    "                \n",
    "            grad_item = e_ui * q[:,movie_dic[i]] - lam* p[:,u-1]\n",
    "            if(all(np.abs(grad)) > stopping_deriv for grad in grad_item):\n",
    "                p[:,u-1] = p[:,u-1] + lrate * grad_item\n",
    "                \n",
    "            grad_user_bias = e_ui - lam * bias_u\n",
    "            if (np.abs(grad_user_bias) > stopping_deriv):\n",
    "                user_bias[u-1] = bias_u + lrate * grad_user_bias\n",
    "            \n",
    "            grad_item_bias = e_ui - lam * bias_i\n",
    "            if (np.abs(grad_item_bias) > stopping_deriv):\n",
    "                item_bias[tmp_movie_dic[i]] = bias_i + lrate * grad_item_bias \n",
    "    \n",
    "    #calculate rating matrix\n",
    "    r_ij = total_mean + user_bias + np.dot(q.T,p)\n",
    "    r_ij = (r_ij.T + item_bias).T\n",
    "    return p,q, r_ij"
   ]
  },
  {
   "cell_type": "markdown",
   "metadata": {},
   "source": [
    "#### 2.2 Cross-Validation for parameter tuning"
   ]
  },
  {
   "cell_type": "code",
   "execution_count": 6,
   "metadata": {},
   "outputs": [],
   "source": [
    "# function of computing RMSE\n",
    "def RMSE(rating, est_rating):\n",
    "    sqr_error = []\n",
    "    for r in range(rating.shape[0]):\n",
    "        u = int(rating[r,0])\n",
    "        i = int(rating[r,1])\n",
    "        r_ui = rating[r,2]\n",
    "        est_r_ui = est_rating.at[i, u]\n",
    "        sqr_error.append((r_ui - est_r_ui) ** 2)\n",
    "    return np.sqrt(np.mean(sqr_error))      "
   ]
  },
  {
   "cell_type": "code",
   "execution_count": 7,
   "metadata": {},
   "outputs": [],
   "source": [
    "def get_fold(data,K):\n",
    "    fold_num = []\n",
    "    i =0\n",
    "    while i<len(data):\n",
    "        for j in range(5):\n",
    "            if(i<len(data)):\n",
    "                fold_num.append(j)\n",
    "            i+=1\n",
    "    return fold_num"
   ]
  },
  {
   "cell_type": "code",
   "execution_count": 8,
   "metadata": {},
   "outputs": [],
   "source": [
    "# function of conducting cross-validation\n",
    "def cv(tr, K, f, lambda_):\n",
    "    df = tr\n",
    "    df['fold'] = get_fold(tr,K)\n",
    "    test_errors = []\n",
    "    train_errors = []\n",
    "    for k in range(K):\n",
    "        #print(\"fold: \", k)\n",
    "        k_test = df[df.fold == k]\n",
    "        k_train = df[df.fold != k]\n",
    "        \n",
    "        train_error, test_error=predict(k_train,k_test,f,lambda_)\n",
    "        train_errors.append(train_error)\n",
    "        test_errors.append(test_error)\n",
    "    return train_errors, test_errors"
   ]
  },
  {
   "cell_type": "code",
   "execution_count": 9,
   "metadata": {},
   "outputs": [],
   "source": [
    "# function of computing training RMSE and test RMSE  \n",
    "def predict(train_data, test_data,f,lambda_):\n",
    "        \n",
    "        train_RMSE = []\n",
    "        test_RMSE = []\n",
    "        p,q,r_ij = sgd_bias(data, train_data,f,lambda_)\n",
    "        est_rating = pd.DataFrame(r_ij)\n",
    "        est_rating.index = data['movieId'].unique().tolist()\n",
    "        est_rating.columns = data['userId'].unique().tolist()\n",
    "        est_rating = pd.DataFrame(est_rating)\n",
    "        train_data = np.array(train_data)\n",
    "        test_data = np.array(test_data)\n",
    "\n",
    "        train_RMSE_cur = RMSE(train_data, est_rating)\n",
    "        train_RMSE.append(train_RMSE_cur)\n",
    "        #print(\"training RMSE:\", train_RMSE_cur)\n",
    "        test_RMSE_cur = RMSE(test_data, est_rating)\n",
    "        test_RMSE.append(test_RMSE_cur)\n",
    "        #print(\"test RMSE:\", test_RMSE_cur)\n",
    "\n",
    "        return [train_RMSE, test_RMSE]"
   ]
  },
  {
   "cell_type": "code",
   "execution_count": 66,
   "metadata": {},
   "outputs": [],
   "source": [
    "# Parameter tuning of f and lambda\n",
    "f_s = np.array([1,2,5,10]).astype(int)\n",
    "lambda_s= np.array([0.1,0.5,1,5]).astype(int)\n",
    "\n",
    "#train for 10 iterarions each time\n",
    "trains = []\n",
    "tests = []\n",
    "for f in f_s:\n",
    "    train_avs = []\n",
    "    test_avs = []\n",
    "    for lambda_ in lambda_s:\n",
    "        tr_rmse,tst_rmse=cv(data, 5, f, lambda_)\n",
    "        \n",
    "        train_avs.append(np.mean(tr_rmse))\n",
    "        test_avs.append(np.mean(tst_rmse))\n",
    "    trains.append(train_avs)\n",
    "    tests.append(test_avs)\n",
    "#print(trains)\n",
    "#print(tests)"
   ]
  },
  {
   "cell_type": "code",
   "execution_count": 127,
   "metadata": {},
   "outputs": [],
   "source": [
    "#save the output\n",
    "#trains_basic=pd.DataFrame(trains)\n",
    "#tests_basic=pd.DataFrame(tests)\n",
    "#trains_basic.to_csv(\"../output/trains.csv\")\n",
    "#tests_basic.to_csv(\"../output/tests.csv\")"
   ]
  },
  {
   "cell_type": "markdown",
   "metadata": {},
   "source": [
    "#### 2.3 Plot RMSE for basic model"
   ]
  },
  {
   "cell_type": "code",
   "execution_count": 67,
   "metadata": {},
   "outputs": [
    {
     "data": {
      "image/png": "[encoded data removed]",
      "text/plain": [
       "<Figure size 720x360 with 1 Axes>"
      ]
     },
     "metadata": {
      "needs_background": "light"
     },
     "output_type": "display_data"
    }
   ],
   "source": [
    "plt.figure(figsize=(10,5))\n",
    "plt.plot(f_s,trains[0])\n",
    "plt.plot(f_s,trains[1])\n",
    "plt.plot(f_s,trains[2])\n",
    "plt.plot(f_s,trains[3])\n",
    "\n",
    "plt.legend(['lambda = 0.1', 'lambda = 0.5', 'lambda = 1',\n",
    "           'lambda = 5'], loc='upper right')\n",
    "plt.xlabel('latent features', fontsize=10)\n",
    "plt.ylabel('RMSE', fontsize=10)\n",
    "plt.title(\"Training RMSE for different lambda\", fontsize=16)\n",
    "\n",
    "plt.show()"
   ]
  },
  {
   "cell_type": "code",
   "execution_count": 68,
   "metadata": {},
   "outputs": [
    {
     "data": {
      "image/png": "[encoded data removed]",
      "text/plain": [
       "<Figure size 720x360 with 1 Axes>"
      ]
     },
     "metadata": {
      "needs_background": "light"
     },
     "output_type": "display_data"
    }
   ],
   "source": [
    "plt.figure(figsize=(10,5))\n",
    "plt.plot(f_s,tests[0])\n",
    "plt.plot(f_s,tests[1])\n",
    "plt.plot(f_s,tests[2])\n",
    "plt.plot(f_s,tests[3])\n",
    "plt.legend(['lambda = 0.1', 'lambda = 0.5', 'lambda = 1', 'lambda = 5'], loc='upper right')\n",
    "plt.xlabel('latent features', fontsize=10)\n",
    "plt.ylabel('RMSE', fontsize=10)\n",
    "plt.title(\"Test RMSE for different lambda\", fontsize=16)\n",
    "\n",
    "plt.show()"
   ]
  },
  {
   "cell_type": "markdown",
   "metadata": {},
   "source": [
    "From the plot we can see that the larger the f we choose, the better the performance of factorization is. While when f=10, training RMSE and test RMSE do not have distinct difference varing from different lambdas. So we set f=10 and try many different lambda to choose the best parameter."
   ]
  },
  {
   "cell_type": "code",
   "execution_count": null,
   "metadata": {},
   "outputs": [],
   "source": [
    "lambda_list = [0.01, 0.1, 0.3, 0.5, 1, 3, 5]\n",
    "\n",
    "trains_la = []\n",
    "tests_la = []\n",
    "for l in lambda_list:\n",
    "    train_la,test_la = cv(data,5,10,l)\n",
    "    trains_la.append(np.mean(train_la))\n",
    "    tests_la.append(np.mean(test_la))"
   ]
  },
  {
   "cell_type": "code",
   "execution_count": 126,
   "metadata": {},
   "outputs": [
    {
     "data": {
      "image/png": "[encoded data removed]",
      "text/plain": [
       "<Figure size 720x360 with 1 Axes>"
      ]
     },
     "metadata": {
      "needs_background": "light"
     },
     "output_type": "display_data"
    }
   ],
   "source": [
    "plt.figure(figsize=(10,5))\n",
    "plt.plot(lambda_list,trains_la)\n",
    "plt.plot(lambda_list,tests_la)\n",
    "plt.legend(['Training RMSE', 'Test RMSE'], loc='upper right')\n",
    "plt.xlabel('lambda', fontsize=10)\n",
    "plt.ylabel('RMSE', fontsize=10)\n",
    "plt.title(\"Training RMSE for different lambda at f=10\", fontsize=16)\n",
    "\n",
    "plt.show()"
   ]
  },
  {
   "cell_type": "markdown",
   "metadata": {},
   "source": [
    " According to the diagram above, we choose `f=10,lambda=5`."
   ]
  },
  {
   "cell_type": "markdown",
   "metadata": {},
   "source": [
    "### 3. Postprocessing - KNN "
   ]
  },
  {
   "cell_type": "markdown",
   "metadata": {},
   "source": [
    "#### 3.1 Optimization model\n",
    "#### A1+R1+R2+P2"
   ]
  },
  {
   "cell_type": "code",
   "execution_count": 10,
   "metadata": {},
   "outputs": [],
   "source": [
    "def knn(p,q,r_ij, k=1,test_point=None):\n",
    "    U = len(test_point['userId'].unique())\n",
    "    I = len(test_point['movieId'].unique())\n",
    "    \n",
    "    sim = pairwise_distances(q.T,metric='cosine')\n",
    "    sim = pd.DataFrame(sim)\n",
    "    knn_r_ij = []\n",
    "    tmp = list(test_point['movieId'].unique())\n",
    "    \n",
    "    tmp1 = [i for i in range(I)]\n",
    "    tmp2 = test_point['movieId'].unique()\n",
    "    movie_dic = dict(zip(tmp2,tmp1))\n",
    "    \n",
    "    for i in tmp:\n",
    "        k_neighbors_class = np.argsort(sim[movie_dic[i]])[1:1+k]\n",
    "        knn_r_ij.append(np.mean(r_ij[k_neighbors_class,:],axis=0))\n",
    "    knn_r_ij = pd.DataFrame(knn_r_ij)\n",
    "    knn_r_ij.index = test_point['movieId'].unique().tolist()\n",
    "    knn_r_ij.columns = test_point['userId'].unique().tolist()\n",
    "    \n",
    "    return knn_r_ij"
   ]
  },
  {
   "cell_type": "markdown",
   "metadata": {},
   "source": [
    "#### 3.2 Cross-Validation for parameter tuning"
   ]
  },
  {
   "cell_type": "code",
   "execution_count": 11,
   "metadata": {},
   "outputs": [],
   "source": [
    "#set f=10, lambda=5\n",
    "p_1,q_1,r_ij_1 = sgd_bias(data, train, 10,5)"
   ]
  },
  {
   "cell_type": "code",
   "execution_count": 12,
   "metadata": {},
   "outputs": [],
   "source": [
    "def predict_knn(train_data, test_data,kk):\n",
    "\n",
    "    train_RMSE = []\n",
    "    test_RMSE = []\n",
    "    knn_r_ij = knn(p_1,q_1,r_ij_1,kk,test_point = data)\n",
    "    est_rating = pd.DataFrame(knn_r_ij)\n",
    "    est_rating.index = data['movieId'].unique().tolist()\n",
    "    est_rating.columns = data['userId'].unique().tolist()\n",
    "    est_rating = pd.DataFrame(est_rating)\n",
    "    train_data = np.array(train_data)\n",
    "    test_data = np.array(test_data)\n",
    "\n",
    "    train_RMSE_cur = RMSE(train_data, est_rating)\n",
    "    train_RMSE.append(train_RMSE_cur)\n",
    "    #print(\"training RMSE:\", train_RMSE_cur)\n",
    "    test_RMSE_cur = RMSE(test_data, est_rating)\n",
    "    test_RMSE.append(test_RMSE_cur)\n",
    "    #print(\"test RMSE:\", test_RMSE_cur)\n",
    "\n",
    "    return [train_RMSE, test_RMSE]"
   ]
  },
  {
   "cell_type": "code",
   "execution_count": 13,
   "metadata": {},
   "outputs": [],
   "source": [
    "def cv_knn(tr, K, KK):\n",
    "    df = tr\n",
    "    df['fold'] = get_fold(tr,K)\n",
    "    test_errors = []\n",
    "    train_errors = []\n",
    "    for k in range(K):\n",
    "        #print(\"fold: \", k)\n",
    "        k_test = df[df.fold == k]\n",
    "        k_train = df[df.fold != k]\n",
    "        \n",
    "        train_error, test_error=predict_knn(k_train,k_test,KK)\n",
    "        train_errors.append(train_error)\n",
    "        test_errors.append(test_error)\n",
    "    return train_errors, test_errors"
   ]
  },
  {
   "cell_type": "code",
   "execution_count": 99,
   "metadata": {},
   "outputs": [
    {
     "name": "stdout",
     "output_type": "stream",
     "text": [
      "Training RMSE:  [1.12954637373708, 1.0871838844872193, 1.0713041389484754, 1.059163097131394, 1.050578561375458, 1.0444557767091442, 1.0408118533012138, 1.0386042152303487, 1.0362311279367307, 1.0349538769657012]\n",
      "Test RMSE:  [1.1295371583973737, 1.0871700470016379, 1.0712943749915316, 1.0591531984602323, 1.0505642899046013, 1.0444419253979924, 1.0407989375207451, 1.0385916054123778, 1.036217062157601, 1.034940464894277]\n"
     ]
    }
   ],
   "source": [
    "#train for 10 iterarions each time\n",
    "trains_knn = []\n",
    "tests_knn = []\n",
    "for KK in range(1,11):\n",
    "        train_knn,test_knn = cv_knn(data,5,KK)\n",
    "        trains_knn.append(np.mean(train_knn))\n",
    "        tests_knn.append(np.mean(test_knn))\n",
    "\n",
    "print(\"Training RMSE: \", trains_knn)  \n",
    "print(\"Test RMSE: \", tests_knn)"
   ]
  },
  {
   "cell_type": "markdown",
   "metadata": {},
   "source": [
    "#### 3.3 Plot RMSE for optimization model "
   ]
  },
  {
   "cell_type": "code",
   "execution_count": 111,
   "metadata": {
    "scrolled": true
   },
   "outputs": [
    {
     "data": {
      "image/png": "[encoded data removed]",
      "text/plain": [
       "<Figure size 864x288 with 2 Axes>"
      ]
     },
     "metadata": {
      "needs_background": "light"
     },
     "output_type": "display_data"
    }
   ],
   "source": [
    "fig,ax=plt.subplots(1,2,figsize=(12,4))\n",
    "ax[0].plot(range(1,11),trains_knn)\n",
    "ax[1].plot(range(1,11),tests_knn)\n",
    "#plt.legend([\"Training MSE of KNN\",\"Test MSE of KNN\"], loc='upper right')\n",
    "ax[0].set_xlabel('K', fontsize=10)\n",
    "ax[0].set_ylabel('RMSE', fontsize=10)\n",
    "ax[0].set_title(\"Training RMSE for different K\", fontsize=16)\n",
    "ax[1].set_xlabel('K', fontsize=10)\n",
    "ax[1].set_ylabel('RMSE', fontsize=10)\n",
    "ax[1].set_title(\"Test RMSE for different K\", fontsize=16)\n",
    "plt.show()"
   ]
  },
  {
   "cell_type": "markdown",
   "metadata": {},
   "source": [
    " We choose `K=10`   \n",
    " According to the results above, we choose `f=10, lambda=5, K=10`"
   ]
  },
  {
   "cell_type": "markdown",
   "metadata": {},
   "source": [
    "### 4. Postprocessing - Kernel Ridge Regression "
   ]
  },
  {
   "cell_type": "markdown",
   "metadata": {},
   "source": [
    "#### 4.1 Optimization model\n",
    "#### A1+R1+R2+P3"
   ]
  },
  {
   "cell_type": "code",
   "execution_count": 14,
   "metadata": {},
   "outputs": [],
   "source": [
    "def krr(q,data,train,alpha,kernel):\n",
    "    import numpy as np\n",
    "    import pandas as pd\n",
    "    \n",
    "    from sklearn import preprocessing\n",
    "    from sklearn.kernel_ridge import KernelRidge  \n",
    "    \n",
    "    n_movies=np.unique(data.movieId).shape[0]\n",
    "    n_users=np.unique(data.userId).shape[0]\n",
    "\n",
    "    updated_rating_mat=np.zeros((n_users,n_movies))\n",
    "    \n",
    "    q=q.T\n",
    "    \n",
    "    #normalize q matrix\n",
    "    q_normalize=preprocessing.normalize(q) #mat_q:\n",
    "    q_normalize.shape\n",
    "    q_normalize=pd.DataFrame(q_normalize.T)\n",
    "    q_normalize.columns=[np.unique(data.movieId)]\n",
    "    \n",
    "       \n",
    "    for i in range(n_users):\n",
    "        \n",
    "        rating_i=train.loc[train['userId']==i+1,['movieId','rating']]\n",
    "        movieId_i=rating_i.iloc[:,0]\n",
    "        y_i=rating_i.iloc[:,1]#rating vector of user i\n",
    "           \n",
    "        #create X for user i\n",
    "        X_i=q_normalize.loc[:,movieId_i]\n",
    "        \n",
    "        #predictions of krr\n",
    "        krr = KernelRidge(alpha,kernel)\n",
    "        krr.fit(X_i.T,y_i)\n",
    "\n",
    "        pred_krr=krr.predict(q_normalize.T)            \n",
    "        updated_rating_mat[i]=pred_krr          \n",
    "        \n",
    "    return(updated_rating_mat)\n"
   ]
  },
  {
   "cell_type": "markdown",
   "metadata": {},
   "source": [
    "#### 4.2 Cross-Validation for parameter tuning"
   ]
  },
  {
   "cell_type": "code",
   "execution_count": 15,
   "metadata": {},
   "outputs": [],
   "source": [
    "def predict_krr(train_data, test_data,alpha,kernel):\n",
    "\n",
    "    train_RMSE = []\n",
    "    test_RMSE = []\n",
    "    krr_r_ij = krr(q_1,data,train,alpha,kernel)\n",
    "    est_rating = pd.DataFrame(krr_r_ij)\n",
    "    est_rating = est_rating.transpose()\n",
    "    est_rating.index = data['movieId'].unique().tolist()\n",
    "    est_rating.columns = data['userId'].unique().tolist()\n",
    "    train_data = np.array(train_data)\n",
    "    test_data = np.array(test_data)\n",
    "\n",
    "    train_RMSE_cur = RMSE(train_data, est_rating)\n",
    "    train_RMSE.append(train_RMSE_cur)\n",
    "    #print(\"training RMSE:\", train_RMSE_cur)\n",
    "    test_RMSE_cur = RMSE(test_data, est_rating)\n",
    "    test_RMSE.append(test_RMSE_cur)\n",
    "    #print(\"test RMSE:\", test_RMSE_cur)\n",
    "\n",
    "    return [train_RMSE, test_RMSE]"
   ]
  },
  {
   "cell_type": "code",
   "execution_count": 16,
   "metadata": {},
   "outputs": [],
   "source": [
    "def cv_krr(tr, K, alpha,kernel):\n",
    "    df = tr\n",
    "    df['fold'] = get_fold(tr,K)\n",
    "    test_errors = []\n",
    "    train_errors = []\n",
    "    for k in range(K):\n",
    "        #print(\"fold: \", k)\n",
    "        k_test = df[df.fold == k]\n",
    "        k_train = df[df.fold != k]\n",
    "        \n",
    "        train_error, test_error=predict_krr(k_train,k_test,alpha,kernel)\n",
    "        train_errors.append(train_error)\n",
    "        test_errors.append(test_error)\n",
    "    return train_errors, test_errors"
   ]
  },
  {
   "cell_type": "code",
   "execution_count": null,
   "metadata": {},
   "outputs": [],
   "source": [
    "# Parameter tuning of alpha and kernel\n",
    "alpha_s = np.array([0.1,0.5,1,2,5,10,20]).astype(int)\n",
    "kernel_s= np.array([\"linear\",\"rbf\"]).astype(str)\n",
    "\n",
    "#train for 10 iterarions each time\n",
    "trains_krr = []\n",
    "tests_krr = []\n",
    "for kernel in kernel_s:\n",
    "    train_avs_krr = []\n",
    "    test_avs_krr = []\n",
    "    for alpha in alpha_s:\n",
    "        tr_rmse_krr,tst_rmse_krr=cv_krr(data, 5, alpha, kernel)\n",
    "        \n",
    "        train_avs_krr.append(np.mean(tr_rmse_krr))\n",
    "        test_avs_krr.append(np.mean(tst_rmse_krr))\n",
    "    trains_krr.append(train_avs_krr)\n",
    "    tests_krr.append(test_avs_krr)\n",
    "    \n",
    "#print(trains_krr)\n",
    "#print(tests_krr)"
   ]
  },
  {
   "cell_type": "code",
   "execution_count": 133,
   "metadata": {},
   "outputs": [
    {
     "name": "stdout",
     "output_type": "stream",
     "text": [
      "Training RMSE:  [[3.90058228 3.90058228 3.7303341  3.70714682 3.6795031  3.66390898\n",
      "  3.65417143]\n",
      " [1.73401904 1.73401904 0.95014282 0.95002658 0.97183366 1.03054549\n",
      "  1.15960631]]\n",
      "Test RMSE:  [[3.9005385  3.9005385  3.73032434 3.7071401  3.67949944 3.66390668\n",
      "  3.65416987]\n",
      " [1.73396519 1.73396519 0.95012499 0.9500084  0.97181545 1.03052793\n",
      "  1.15959081]]\n"
     ]
    }
   ],
   "source": [
    "print(\"Training RMSE: \", trains_krr)  \n",
    "print(\"Test RMSE: \", tests_krr)"
   ]
  },
  {
   "cell_type": "code",
   "execution_count": 135,
   "metadata": {},
   "outputs": [],
   "source": [
    "#save the output\n",
    "#trains_krr=pd.DataFrame(trains_krr)\n",
    "#tests_krr=pd.DataFrame(tests_krr)\n",
    "#trains_krr.to_csv(\"../output/trains_krr.csv\")\n",
    "#tests_krr.to_csv(\"../output/tests_krr.csv\")"
   ]
  },
  {
   "cell_type": "markdown",
   "metadata": {},
   "source": [
    "#### 4.3 Plot RMSE for optimization model"
   ]
  },
  {
   "cell_type": "code",
   "execution_count": 120,
   "metadata": {},
   "outputs": [
    {
     "data": {
      "image/png": "[encoded data removed]",
      "text/plain": [
       "<Figure size 720x360 with 1 Axes>"
      ]
     },
     "metadata": {
      "needs_background": "light"
     },
     "output_type": "display_data"
    }
   ],
   "source": [
    "plt.figure(figsize=(10,5))\n",
    "plt.plot(alpha_s,trains_krr[0])\n",
    "plt.plot(alpha_s,trains_krr[1])\n",
    "\n",
    "plt.legend(['Linear kernal', 'RBF kernel'], loc='upper right')\n",
    "plt.xlabel('alpha', fontsize=10)\n",
    "plt.ylabel('RMSE', fontsize=10)\n",
    "plt.title(\"Training RMSE for different alphas\", fontsize=16)\n",
    "\n",
    "plt.show()"
   ]
  },
  {
   "cell_type": "code",
   "execution_count": 121,
   "metadata": {},
   "outputs": [
    {
     "data": {
      "image/png": "[encoded data removed]",
      "text/plain": [
       "<Figure size 720x360 with 1 Axes>"
      ]
     },
     "metadata": {
      "needs_background": "light"
     },
     "output_type": "display_data"
    }
   ],
   "source": [
    "plt.figure(figsize=(10,5))\n",
    "plt.plot(alpha_s,tests_krr[0])\n",
    "plt.plot(alpha_s,tests_krr[1])\n",
    "\n",
    "plt.legend(['Linear kernal', 'RBF kernel'], loc='upper right')\n",
    "plt.xlabel('alpha', fontsize=10)\n",
    "plt.ylabel('RMSE', fontsize=10)\n",
    "plt.title(\"Test RMSE for different alphas\", fontsize=16)\n",
    "\n",
    "plt.show()"
   ]
  },
  {
   "cell_type": "markdown",
   "metadata": {},
   "source": [
    "According to the results above, we choose `f=10,lambda=5,alpha=1,kernel=\"rbf\"`."
   ]
  },
  {
   "cell_type": "markdown",
   "metadata": {},
   "source": [
    "### 5. Evaluation "
   ]
  },
  {
   "cell_type": "markdown",
   "metadata": {},
   "source": [
    "Now we evaluate and compare between two different post-processing methods after we measured the performance of the basic algorithm."
   ]
  },
  {
   "cell_type": "code",
   "execution_count": 25,
   "metadata": {},
   "outputs": [
    {
     "name": "stdout",
     "output_type": "stream",
     "text": [
      "Running Time for SGD+R1+R2:  27.82926520000001 s\n",
      "Training MSE of SGD+R1+R2 is  [1.0773972429958685] , and test mse of P2 is  [1.0791488079583413]\n"
     ]
    }
   ],
   "source": [
    "start1 = timeit.default_timer()\n",
    "trmse1, temse1 = predict(train, test,10,5)\n",
    "stop1 = timeit.default_timer()\n",
    "           \n",
    "print('Running Time for SGD+R1+R2: ', stop1 - start1, 's')\n",
    "\n",
    "print('Training MSE of SGD+R1+R2 is ', trmse1, ', and test mse of P2 is ', temse1)"
   ]
  },
  {
   "cell_type": "code",
   "execution_count": 21,
   "metadata": {},
   "outputs": [],
   "source": [
    "start3 = timeit.default_timer()\n",
    "trmse3, temse3 = predict_krr(train, test, 1, \"rbf\")\n",
    "stop3 = timeit.default_timer()"
   ]
  },
  {
   "cell_type": "code",
   "execution_count": 22,
   "metadata": {},
   "outputs": [],
   "source": [
    "start2 = timeit.default_timer()\n",
    "trmse2, temse2 = predict_knn(train, test, 10)\n",
    "stop2 = timeit.default_timer()"
   ]
  },
  {
   "cell_type": "code",
   "execution_count": 23,
   "metadata": {},
   "outputs": [
    {
     "name": "stdout",
     "output_type": "stream",
     "text": [
      "Running Time for Post-processing P2:  18.27819850000003 s\n",
      "Running Time for Post-processing P3:  36.89328619999998 s\n",
      "Training MSE of P2 is  [1.0266159152107408] , and test mse of P2 is  [1.0308111278683425]\n",
      "Training MSE of P3 is  [0.9473794401609528] , and test mse of P3 is  [0.9594510041475915]\n"
     ]
    }
   ],
   "source": [
    "print('Running Time for Post-processing P2: ', stop2 - start2, 's')\n",
    "print('Running Time for Post-processing P3: ', stop3 - start3, 's')\n",
    "\n",
    "print('Training MSE of P2 is ', trmse2, ', and test mse of P2 is ', temse2)\n",
    "print('Training MSE of P3 is ', trmse3, ', and test mse of P3 is ', temse3)\n"
   ]
  },
  {
   "cell_type": "markdown",
   "metadata": {},
   "source": [
    "In colusion, we see that there is a trade-off between running cost (i.e., time spent) and accuracy for post-processing algorithms."
   ]
  }
 ],
 "metadata": {
  "kernelspec": {
   "display_name": "Python 3",
   "language": "python",
   "name": "python3"
  },
  "language_info": {
   "codemirror_mode": {
    "name": "ipython",
    "version": 3
   },
   "file_extension": ".py",
   "mimetype": "text/x-python",
   "name": "python",
   "nbconvert_exporter": "python",
   "pygments_lexer": "ipython3",
   "version": "3.7.4"
  }
 },
 "nbformat": 4,
 "nbformat_minor": 4
}
